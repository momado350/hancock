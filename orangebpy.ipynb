{
 "cells": [
  {
   "cell_type": "code",
   "execution_count": 29,
   "metadata": {},
   "outputs": [
    {
     "data": {
      "text/html": [
       "<div>\n",
       "<style scoped>\n",
       "    .dataframe tbody tr th:only-of-type {\n",
       "        vertical-align: middle;\n",
       "    }\n",
       "\n",
       "    .dataframe tbody tr th {\n",
       "        vertical-align: top;\n",
       "    }\n",
       "\n",
       "    .dataframe thead th {\n",
       "        text-align: right;\n",
       "    }\n",
       "</style>\n",
       "<table border=\"1\" class=\"dataframe\">\n",
       "  <thead>\n",
       "    <tr style=\"text-align: right;\">\n",
       "      <th></th>\n",
       "      <th>Metrics</th>\n",
       "      <th>Date</th>\n",
       "      <th>numbers</th>\n",
       "      <th>Variable</th>\n",
       "    </tr>\n",
       "  </thead>\n",
       "  <tbody>\n",
       "    <tr>\n",
       "      <th>0</th>\n",
       "      <td>124454 Total Active Cardholders</td>\n",
       "      <td>2024-02-02</td>\n",
       "      <td>124454</td>\n",
       "      <td>Total Active Cardholders</td>\n",
       "    </tr>\n",
       "    <tr>\n",
       "      <th>1</th>\n",
       "      <td>330 Change in Active Cardholders</td>\n",
       "      <td>2024-02-02</td>\n",
       "      <td>330</td>\n",
       "      <td>Change in Active Cardholders</td>\n",
       "    </tr>\n",
       "    <tr>\n",
       "      <th>2</th>\n",
       "      <td>1151 New Cardholders Last Week</td>\n",
       "      <td>2024-02-02</td>\n",
       "      <td>1151</td>\n",
       "      <td>New Cardholders Last Week</td>\n",
       "    </tr>\n",
       "    <tr>\n",
       "      <th>3</th>\n",
       "      <td>124124 Total Active Cardholders</td>\n",
       "      <td>2024-01-26</td>\n",
       "      <td>124124</td>\n",
       "      <td>Total Active Cardholders</td>\n",
       "    </tr>\n",
       "    <tr>\n",
       "      <th>4</th>\n",
       "      <td>360 Change in Active Cardholders</td>\n",
       "      <td>2024-01-26</td>\n",
       "      <td>360</td>\n",
       "      <td>Change in Active Cardholders</td>\n",
       "    </tr>\n",
       "    <tr>\n",
       "      <th>...</th>\n",
       "      <td>...</td>\n",
       "      <td>...</td>\n",
       "      <td>...</td>\n",
       "      <td>...</td>\n",
       "    </tr>\n",
       "    <tr>\n",
       "      <th>85</th>\n",
       "      <td>459 Change in Active Cardholders</td>\n",
       "      <td>2023-06-23</td>\n",
       "      <td>459</td>\n",
       "      <td>Change in Active Cardholders</td>\n",
       "    </tr>\n",
       "    <tr>\n",
       "      <th>86</th>\n",
       "      <td>999 New Cardholders Last Week</td>\n",
       "      <td>2023-06-23</td>\n",
       "      <td>999</td>\n",
       "      <td>New Cardholders Last Week</td>\n",
       "    </tr>\n",
       "    <tr>\n",
       "      <th>87</th>\n",
       "      <td>112447 Total Active Cardholders</td>\n",
       "      <td>2023-06-16</td>\n",
       "      <td>112447</td>\n",
       "      <td>Total Active Cardholders</td>\n",
       "    </tr>\n",
       "    <tr>\n",
       "      <th>88</th>\n",
       "      <td>-151 Change in Active Cardholders</td>\n",
       "      <td>2023-06-16</td>\n",
       "      <td>-151</td>\n",
       "      <td>Change in Active Cardholders</td>\n",
       "    </tr>\n",
       "    <tr>\n",
       "      <th>89</th>\n",
       "      <td>994 New Cardholders Last Week</td>\n",
       "      <td>2023-06-16</td>\n",
       "      <td>994</td>\n",
       "      <td>New Cardholders Last Week</td>\n",
       "    </tr>\n",
       "  </tbody>\n",
       "</table>\n",
       "<p>90 rows × 4 columns</p>\n",
       "</div>"
      ],
      "text/plain": [
       "                              Metrics       Date  numbers  \\\n",
       "0     124454 Total Active Cardholders 2024-02-02   124454   \n",
       "1    330 Change in Active Cardholders 2024-02-02      330   \n",
       "2      1151 New Cardholders Last Week 2024-02-02     1151   \n",
       "3     124124 Total Active Cardholders 2024-01-26   124124   \n",
       "4    360 Change in Active Cardholders 2024-01-26      360   \n",
       "..                                ...        ...      ...   \n",
       "85   459 Change in Active Cardholders 2023-06-23      459   \n",
       "86      999 New Cardholders Last Week 2023-06-23      999   \n",
       "87    112447 Total Active Cardholders 2023-06-16   112447   \n",
       "88  -151 Change in Active Cardholders 2023-06-16     -151   \n",
       "89      994 New Cardholders Last Week 2023-06-16      994   \n",
       "\n",
       "                        Variable  \n",
       "0       Total Active Cardholders  \n",
       "1   Change in Active Cardholders  \n",
       "2      New Cardholders Last Week  \n",
       "3       Total Active Cardholders  \n",
       "4   Change in Active Cardholders  \n",
       "..                           ...  \n",
       "85  Change in Active Cardholders  \n",
       "86     New Cardholders Last Week  \n",
       "87      Total Active Cardholders  \n",
       "88  Change in Active Cardholders  \n",
       "89     New Cardholders Last Week  \n",
       "\n",
       "[90 rows x 4 columns]"
      ]
     },
     "execution_count": 29,
     "metadata": {},
     "output_type": "execute_result"
    }
   ],
   "source": [
    "import pandas as pd \n",
    "df = pd.read_csv('data/orangeboy.csv')\n",
    "df['Date'] = df['Date'].fillna(method='ffill')\n",
    "df['numbers'] = df['Metrics'].str.split(' ').str[0].astype(int)\n",
    "#df['Variable'] = df['Metrics'].str.split(' ').str[1:-1]\n",
    "df['Variable'] = df['Metrics'].str.split(' ', 1).str[1]\n",
    "df['Date'] = pd.to_datetime(df['Date'])\n",
    "df"
   ]
  },
  {
   "cell_type": "code",
   "execution_count": 30,
   "metadata": {},
   "outputs": [
    {
     "data": {
      "text/html": [
       "<div>\n",
       "<style scoped>\n",
       "    .dataframe tbody tr th:only-of-type {\n",
       "        vertical-align: middle;\n",
       "    }\n",
       "\n",
       "    .dataframe tbody tr th {\n",
       "        vertical-align: top;\n",
       "    }\n",
       "\n",
       "    .dataframe thead th {\n",
       "        text-align: right;\n",
       "    }\n",
       "</style>\n",
       "<table border=\"1\" class=\"dataframe\">\n",
       "  <thead>\n",
       "    <tr style=\"text-align: right;\">\n",
       "      <th>Variable</th>\n",
       "      <th>Change in Active Cardholders</th>\n",
       "      <th>New Cardholders Last Week</th>\n",
       "      <th>Total Active Cardholders</th>\n",
       "    </tr>\n",
       "    <tr>\n",
       "      <th>Date</th>\n",
       "      <th></th>\n",
       "      <th></th>\n",
       "      <th></th>\n",
       "    </tr>\n",
       "  </thead>\n",
       "  <tbody>\n",
       "    <tr>\n",
       "      <th>2023-06-16</th>\n",
       "      <td>-151</td>\n",
       "      <td>994</td>\n",
       "      <td>112447</td>\n",
       "    </tr>\n",
       "    <tr>\n",
       "      <th>2023-06-23</th>\n",
       "      <td>459</td>\n",
       "      <td>999</td>\n",
       "      <td>112906</td>\n",
       "    </tr>\n",
       "    <tr>\n",
       "      <th>2023-06-30</th>\n",
       "      <td>363</td>\n",
       "      <td>845</td>\n",
       "      <td>113269</td>\n",
       "    </tr>\n",
       "    <tr>\n",
       "      <th>2023-07-14</th>\n",
       "      <td>157</td>\n",
       "      <td>834</td>\n",
       "      <td>114136</td>\n",
       "    </tr>\n",
       "    <tr>\n",
       "      <th>2023-07-21</th>\n",
       "      <td>308</td>\n",
       "      <td>1044</td>\n",
       "      <td>114444</td>\n",
       "    </tr>\n",
       "    <tr>\n",
       "      <th>2023-08-04</th>\n",
       "      <td>427</td>\n",
       "      <td>975</td>\n",
       "      <td>115244</td>\n",
       "    </tr>\n",
       "    <tr>\n",
       "      <th>2023-08-18</th>\n",
       "      <td>-89</td>\n",
       "      <td>950</td>\n",
       "      <td>115748</td>\n",
       "    </tr>\n",
       "    <tr>\n",
       "      <th>2023-08-25</th>\n",
       "      <td>393</td>\n",
       "      <td>1031</td>\n",
       "      <td>116141</td>\n",
       "    </tr>\n",
       "    <tr>\n",
       "      <th>2023-09-01</th>\n",
       "      <td>551</td>\n",
       "      <td>1143</td>\n",
       "      <td>116692</td>\n",
       "    </tr>\n",
       "    <tr>\n",
       "      <th>2023-09-08</th>\n",
       "      <td>630</td>\n",
       "      <td>1186</td>\n",
       "      <td>117322</td>\n",
       "    </tr>\n",
       "    <tr>\n",
       "      <th>2023-09-15</th>\n",
       "      <td>-57</td>\n",
       "      <td>1173</td>\n",
       "      <td>117265</td>\n",
       "    </tr>\n",
       "    <tr>\n",
       "      <th>2023-09-22</th>\n",
       "      <td>350</td>\n",
       "      <td>1132</td>\n",
       "      <td>117615</td>\n",
       "    </tr>\n",
       "    <tr>\n",
       "      <th>2023-09-29</th>\n",
       "      <td>253</td>\n",
       "      <td>1003</td>\n",
       "      <td>117868</td>\n",
       "    </tr>\n",
       "    <tr>\n",
       "      <th>2023-10-06</th>\n",
       "      <td>400</td>\n",
       "      <td>945</td>\n",
       "      <td>118268</td>\n",
       "    </tr>\n",
       "    <tr>\n",
       "      <th>2023-10-13</th>\n",
       "      <td>242</td>\n",
       "      <td>950</td>\n",
       "      <td>118510</td>\n",
       "    </tr>\n",
       "    <tr>\n",
       "      <th>2023-10-20</th>\n",
       "      <td>208</td>\n",
       "      <td>810</td>\n",
       "      <td>118718</td>\n",
       "    </tr>\n",
       "    <tr>\n",
       "      <th>2023-10-27</th>\n",
       "      <td>329</td>\n",
       "      <td>813</td>\n",
       "      <td>119047</td>\n",
       "    </tr>\n",
       "    <tr>\n",
       "      <th>2023-11-03</th>\n",
       "      <td>528</td>\n",
       "      <td>926</td>\n",
       "      <td>119575</td>\n",
       "    </tr>\n",
       "    <tr>\n",
       "      <th>2023-11-10</th>\n",
       "      <td>335</td>\n",
       "      <td>812</td>\n",
       "      <td>119910</td>\n",
       "    </tr>\n",
       "    <tr>\n",
       "      <th>2023-11-17</th>\n",
       "      <td>527</td>\n",
       "      <td>985</td>\n",
       "      <td>120437</td>\n",
       "    </tr>\n",
       "    <tr>\n",
       "      <th>2023-11-24</th>\n",
       "      <td>285</td>\n",
       "      <td>882</td>\n",
       "      <td>120722</td>\n",
       "    </tr>\n",
       "    <tr>\n",
       "      <th>2023-12-01</th>\n",
       "      <td>214</td>\n",
       "      <td>760</td>\n",
       "      <td>120936</td>\n",
       "    </tr>\n",
       "    <tr>\n",
       "      <th>2023-12-08</th>\n",
       "      <td>380</td>\n",
       "      <td>975</td>\n",
       "      <td>121316</td>\n",
       "    </tr>\n",
       "    <tr>\n",
       "      <th>2023-12-15</th>\n",
       "      <td>237</td>\n",
       "      <td>829</td>\n",
       "      <td>121553</td>\n",
       "    </tr>\n",
       "    <tr>\n",
       "      <th>2023-12-22</th>\n",
       "      <td>157</td>\n",
       "      <td>836</td>\n",
       "      <td>121710</td>\n",
       "    </tr>\n",
       "    <tr>\n",
       "      <th>2024-01-05</th>\n",
       "      <td>259</td>\n",
       "      <td>779</td>\n",
       "      <td>122493</td>\n",
       "    </tr>\n",
       "    <tr>\n",
       "      <th>2024-01-12</th>\n",
       "      <td>614</td>\n",
       "      <td>1040</td>\n",
       "      <td>123107</td>\n",
       "    </tr>\n",
       "    <tr>\n",
       "      <th>2024-01-19</th>\n",
       "      <td>657</td>\n",
       "      <td>1088</td>\n",
       "      <td>123764</td>\n",
       "    </tr>\n",
       "    <tr>\n",
       "      <th>2024-01-26</th>\n",
       "      <td>360</td>\n",
       "      <td>1028</td>\n",
       "      <td>124124</td>\n",
       "    </tr>\n",
       "    <tr>\n",
       "      <th>2024-02-02</th>\n",
       "      <td>330</td>\n",
       "      <td>1151</td>\n",
       "      <td>124454</td>\n",
       "    </tr>\n",
       "  </tbody>\n",
       "</table>\n",
       "</div>"
      ],
      "text/plain": [
       "Variable    Change in Active Cardholders  New Cardholders Last Week  \\\n",
       "Date                                                                  \n",
       "2023-06-16                          -151                        994   \n",
       "2023-06-23                           459                        999   \n",
       "2023-06-30                           363                        845   \n",
       "2023-07-14                           157                        834   \n",
       "2023-07-21                           308                       1044   \n",
       "2023-08-04                           427                        975   \n",
       "2023-08-18                           -89                        950   \n",
       "2023-08-25                           393                       1031   \n",
       "2023-09-01                           551                       1143   \n",
       "2023-09-08                           630                       1186   \n",
       "2023-09-15                           -57                       1173   \n",
       "2023-09-22                           350                       1132   \n",
       "2023-09-29                           253                       1003   \n",
       "2023-10-06                           400                        945   \n",
       "2023-10-13                           242                        950   \n",
       "2023-10-20                           208                        810   \n",
       "2023-10-27                           329                        813   \n",
       "2023-11-03                           528                        926   \n",
       "2023-11-10                           335                        812   \n",
       "2023-11-17                           527                        985   \n",
       "2023-11-24                           285                        882   \n",
       "2023-12-01                           214                        760   \n",
       "2023-12-08                           380                        975   \n",
       "2023-12-15                           237                        829   \n",
       "2023-12-22                           157                        836   \n",
       "2024-01-05                           259                        779   \n",
       "2024-01-12                           614                       1040   \n",
       "2024-01-19                           657                       1088   \n",
       "2024-01-26                           360                       1028   \n",
       "2024-02-02                           330                       1151   \n",
       "\n",
       "Variable    Total Active Cardholders  \n",
       "Date                                  \n",
       "2023-06-16                    112447  \n",
       "2023-06-23                    112906  \n",
       "2023-06-30                    113269  \n",
       "2023-07-14                    114136  \n",
       "2023-07-21                    114444  \n",
       "2023-08-04                    115244  \n",
       "2023-08-18                    115748  \n",
       "2023-08-25                    116141  \n",
       "2023-09-01                    116692  \n",
       "2023-09-08                    117322  \n",
       "2023-09-15                    117265  \n",
       "2023-09-22                    117615  \n",
       "2023-09-29                    117868  \n",
       "2023-10-06                    118268  \n",
       "2023-10-13                    118510  \n",
       "2023-10-20                    118718  \n",
       "2023-10-27                    119047  \n",
       "2023-11-03                    119575  \n",
       "2023-11-10                    119910  \n",
       "2023-11-17                    120437  \n",
       "2023-11-24                    120722  \n",
       "2023-12-01                    120936  \n",
       "2023-12-08                    121316  \n",
       "2023-12-15                    121553  \n",
       "2023-12-22                    121710  \n",
       "2024-01-05                    122493  \n",
       "2024-01-12                    123107  \n",
       "2024-01-19                    123764  \n",
       "2024-01-26                    124124  \n",
       "2024-02-02                    124454  "
      ]
     },
     "execution_count": 30,
     "metadata": {},
     "output_type": "execute_result"
    }
   ],
   "source": [
    "df = pd.pivot_table(df, columns='Variable', values='numbers', index='Date')#.reset_index()\n",
    "\n",
    "df"
   ]
  },
  {
   "cell_type": "code",
   "execution_count": 31,
   "metadata": {},
   "outputs": [],
   "source": [
    "#df.to_csv('data/Weekly insights.csv')"
   ]
  },
  {
   "cell_type": "code",
   "execution_count": 32,
   "metadata": {},
   "outputs": [
    {
     "data": {
      "text/html": [
       "<div>\n",
       "<style scoped>\n",
       "    .dataframe tbody tr th:only-of-type {\n",
       "        vertical-align: middle;\n",
       "    }\n",
       "\n",
       "    .dataframe tbody tr th {\n",
       "        vertical-align: top;\n",
       "    }\n",
       "\n",
       "    .dataframe thead th {\n",
       "        text-align: right;\n",
       "    }\n",
       "</style>\n",
       "<table border=\"1\" class=\"dataframe\">\n",
       "  <thead>\n",
       "    <tr style=\"text-align: right;\">\n",
       "      <th></th>\n",
       "      <th>Date</th>\n",
       "      <th>Change in Active Cardholders</th>\n",
       "      <th>New Cardholders Last Week</th>\n",
       "      <th>Total Active Cardholders</th>\n",
       "    </tr>\n",
       "  </thead>\n",
       "  <tbody>\n",
       "    <tr>\n",
       "      <th>0</th>\n",
       "      <td>2023-06-16</td>\n",
       "      <td>-151</td>\n",
       "      <td>994</td>\n",
       "      <td>112447</td>\n",
       "    </tr>\n",
       "    <tr>\n",
       "      <th>1</th>\n",
       "      <td>2023-06-23</td>\n",
       "      <td>459</td>\n",
       "      <td>999</td>\n",
       "      <td>112906</td>\n",
       "    </tr>\n",
       "    <tr>\n",
       "      <th>2</th>\n",
       "      <td>2023-06-30</td>\n",
       "      <td>363</td>\n",
       "      <td>845</td>\n",
       "      <td>113269</td>\n",
       "    </tr>\n",
       "    <tr>\n",
       "      <th>3</th>\n",
       "      <td>2023-07-14</td>\n",
       "      <td>157</td>\n",
       "      <td>834</td>\n",
       "      <td>114136</td>\n",
       "    </tr>\n",
       "    <tr>\n",
       "      <th>4</th>\n",
       "      <td>2023-07-21</td>\n",
       "      <td>308</td>\n",
       "      <td>1044</td>\n",
       "      <td>114444</td>\n",
       "    </tr>\n",
       "    <tr>\n",
       "      <th>5</th>\n",
       "      <td>2023-08-04</td>\n",
       "      <td>427</td>\n",
       "      <td>975</td>\n",
       "      <td>115244</td>\n",
       "    </tr>\n",
       "    <tr>\n",
       "      <th>6</th>\n",
       "      <td>2023-08-18</td>\n",
       "      <td>-89</td>\n",
       "      <td>950</td>\n",
       "      <td>115748</td>\n",
       "    </tr>\n",
       "    <tr>\n",
       "      <th>7</th>\n",
       "      <td>2023-08-25</td>\n",
       "      <td>393</td>\n",
       "      <td>1031</td>\n",
       "      <td>116141</td>\n",
       "    </tr>\n",
       "    <tr>\n",
       "      <th>8</th>\n",
       "      <td>2023-09-01</td>\n",
       "      <td>551</td>\n",
       "      <td>1143</td>\n",
       "      <td>116692</td>\n",
       "    </tr>\n",
       "    <tr>\n",
       "      <th>9</th>\n",
       "      <td>2023-09-08</td>\n",
       "      <td>630</td>\n",
       "      <td>1186</td>\n",
       "      <td>117322</td>\n",
       "    </tr>\n",
       "    <tr>\n",
       "      <th>10</th>\n",
       "      <td>2023-09-15</td>\n",
       "      <td>-57</td>\n",
       "      <td>1173</td>\n",
       "      <td>117265</td>\n",
       "    </tr>\n",
       "    <tr>\n",
       "      <th>11</th>\n",
       "      <td>2023-09-22</td>\n",
       "      <td>350</td>\n",
       "      <td>1132</td>\n",
       "      <td>117615</td>\n",
       "    </tr>\n",
       "    <tr>\n",
       "      <th>12</th>\n",
       "      <td>2023-09-29</td>\n",
       "      <td>253</td>\n",
       "      <td>1003</td>\n",
       "      <td>117868</td>\n",
       "    </tr>\n",
       "    <tr>\n",
       "      <th>13</th>\n",
       "      <td>2023-10-06</td>\n",
       "      <td>400</td>\n",
       "      <td>945</td>\n",
       "      <td>118268</td>\n",
       "    </tr>\n",
       "    <tr>\n",
       "      <th>14</th>\n",
       "      <td>2023-10-13</td>\n",
       "      <td>242</td>\n",
       "      <td>950</td>\n",
       "      <td>118510</td>\n",
       "    </tr>\n",
       "    <tr>\n",
       "      <th>15</th>\n",
       "      <td>2023-10-20</td>\n",
       "      <td>208</td>\n",
       "      <td>810</td>\n",
       "      <td>118718</td>\n",
       "    </tr>\n",
       "    <tr>\n",
       "      <th>16</th>\n",
       "      <td>2023-10-27</td>\n",
       "      <td>329</td>\n",
       "      <td>813</td>\n",
       "      <td>119047</td>\n",
       "    </tr>\n",
       "    <tr>\n",
       "      <th>17</th>\n",
       "      <td>2023-11-03</td>\n",
       "      <td>528</td>\n",
       "      <td>926</td>\n",
       "      <td>119575</td>\n",
       "    </tr>\n",
       "    <tr>\n",
       "      <th>18</th>\n",
       "      <td>2023-11-10</td>\n",
       "      <td>335</td>\n",
       "      <td>812</td>\n",
       "      <td>119910</td>\n",
       "    </tr>\n",
       "    <tr>\n",
       "      <th>19</th>\n",
       "      <td>2023-11-17</td>\n",
       "      <td>527</td>\n",
       "      <td>985</td>\n",
       "      <td>120437</td>\n",
       "    </tr>\n",
       "    <tr>\n",
       "      <th>20</th>\n",
       "      <td>2023-11-24</td>\n",
       "      <td>285</td>\n",
       "      <td>882</td>\n",
       "      <td>120722</td>\n",
       "    </tr>\n",
       "    <tr>\n",
       "      <th>21</th>\n",
       "      <td>2023-12-01</td>\n",
       "      <td>214</td>\n",
       "      <td>760</td>\n",
       "      <td>120936</td>\n",
       "    </tr>\n",
       "    <tr>\n",
       "      <th>22</th>\n",
       "      <td>2023-12-08</td>\n",
       "      <td>380</td>\n",
       "      <td>975</td>\n",
       "      <td>121316</td>\n",
       "    </tr>\n",
       "    <tr>\n",
       "      <th>23</th>\n",
       "      <td>2023-12-15</td>\n",
       "      <td>237</td>\n",
       "      <td>829</td>\n",
       "      <td>121553</td>\n",
       "    </tr>\n",
       "    <tr>\n",
       "      <th>24</th>\n",
       "      <td>2023-12-22</td>\n",
       "      <td>157</td>\n",
       "      <td>836</td>\n",
       "      <td>121710</td>\n",
       "    </tr>\n",
       "    <tr>\n",
       "      <th>25</th>\n",
       "      <td>2024-01-05</td>\n",
       "      <td>259</td>\n",
       "      <td>779</td>\n",
       "      <td>122493</td>\n",
       "    </tr>\n",
       "    <tr>\n",
       "      <th>26</th>\n",
       "      <td>2024-01-12</td>\n",
       "      <td>614</td>\n",
       "      <td>1040</td>\n",
       "      <td>123107</td>\n",
       "    </tr>\n",
       "    <tr>\n",
       "      <th>27</th>\n",
       "      <td>2024-01-19</td>\n",
       "      <td>657</td>\n",
       "      <td>1088</td>\n",
       "      <td>123764</td>\n",
       "    </tr>\n",
       "    <tr>\n",
       "      <th>28</th>\n",
       "      <td>2024-01-26</td>\n",
       "      <td>360</td>\n",
       "      <td>1028</td>\n",
       "      <td>124124</td>\n",
       "    </tr>\n",
       "    <tr>\n",
       "      <th>29</th>\n",
       "      <td>2024-02-02</td>\n",
       "      <td>330</td>\n",
       "      <td>1151</td>\n",
       "      <td>124454</td>\n",
       "    </tr>\n",
       "  </tbody>\n",
       "</table>\n",
       "</div>"
      ],
      "text/plain": [
       "          Date  Change in Active Cardholders  New Cardholders Last Week  \\\n",
       "0   2023-06-16                          -151                        994   \n",
       "1   2023-06-23                           459                        999   \n",
       "2   2023-06-30                           363                        845   \n",
       "3   2023-07-14                           157                        834   \n",
       "4   2023-07-21                           308                       1044   \n",
       "5   2023-08-04                           427                        975   \n",
       "6   2023-08-18                           -89                        950   \n",
       "7   2023-08-25                           393                       1031   \n",
       "8   2023-09-01                           551                       1143   \n",
       "9   2023-09-08                           630                       1186   \n",
       "10  2023-09-15                           -57                       1173   \n",
       "11  2023-09-22                           350                       1132   \n",
       "12  2023-09-29                           253                       1003   \n",
       "13  2023-10-06                           400                        945   \n",
       "14  2023-10-13                           242                        950   \n",
       "15  2023-10-20                           208                        810   \n",
       "16  2023-10-27                           329                        813   \n",
       "17  2023-11-03                           528                        926   \n",
       "18  2023-11-10                           335                        812   \n",
       "19  2023-11-17                           527                        985   \n",
       "20  2023-11-24                           285                        882   \n",
       "21  2023-12-01                           214                        760   \n",
       "22  2023-12-08                           380                        975   \n",
       "23  2023-12-15                           237                        829   \n",
       "24  2023-12-22                           157                        836   \n",
       "25  2024-01-05                           259                        779   \n",
       "26  2024-01-12                           614                       1040   \n",
       "27  2024-01-19                           657                       1088   \n",
       "28  2024-01-26                           360                       1028   \n",
       "29  2024-02-02                           330                       1151   \n",
       "\n",
       "    Total Active Cardholders  \n",
       "0                     112447  \n",
       "1                     112906  \n",
       "2                     113269  \n",
       "3                     114136  \n",
       "4                     114444  \n",
       "5                     115244  \n",
       "6                     115748  \n",
       "7                     116141  \n",
       "8                     116692  \n",
       "9                     117322  \n",
       "10                    117265  \n",
       "11                    117615  \n",
       "12                    117868  \n",
       "13                    118268  \n",
       "14                    118510  \n",
       "15                    118718  \n",
       "16                    119047  \n",
       "17                    119575  \n",
       "18                    119910  \n",
       "19                    120437  \n",
       "20                    120722  \n",
       "21                    120936  \n",
       "22                    121316  \n",
       "23                    121553  \n",
       "24                    121710  \n",
       "25                    122493  \n",
       "26                    123107  \n",
       "27                    123764  \n",
       "28                    124124  \n",
       "29                    124454  "
      ]
     },
     "execution_count": 32,
     "metadata": {},
     "output_type": "execute_result"
    }
   ],
   "source": [
    "ins = pd.read_csv('data/Weekly insights.csv')\n",
    "ins"
   ]
  },
  {
   "cell_type": "code",
   "execution_count": 2,
   "metadata": {},
   "outputs": [
    {
     "data": {
      "application/vnd.plotly.v1+json": {
       "config": {
        "plotlyServerURL": "https://plot.ly"
       },
       "data": [
        {
         "hovertemplate": "country=Canada<br>lifeExp=%{x}<br>gdpPercap=%{y}<br>year=%{text}<extra></extra>",
         "legendgroup": "Canada",
         "line": {
          "color": "#636efa",
          "dash": "solid"
         },
         "marker": {
          "symbol": "circle"
         },
         "mode": "text+markers+lines",
         "name": "Canada",
         "orientation": "v",
         "showlegend": true,
         "text": [
          1952,
          1957,
          1962,
          1967,
          1972,
          1977,
          1982,
          1987,
          1992,
          1997,
          2002,
          2007
         ],
         "textposition": "bottom right",
         "type": "scatter",
         "x": [
          68.75,
          69.96,
          71.3,
          72.13,
          72.88,
          74.21,
          75.76,
          76.86,
          77.95,
          78.61,
          79.77,
          80.653
         ],
         "xaxis": "x",
         "y": [
          11367.16112,
          12489.95006,
          13462.48555,
          16076.58803,
          18970.57086,
          22090.88306,
          22898.79214,
          26626.51503,
          26342.88426,
          28954.92589,
          33328.96507,
          36319.23501
         ],
         "yaxis": "y"
        },
        {
         "hovertemplate": "country=Sudan<br>lifeExp=%{x}<br>gdpPercap=%{y}<br>year=%{text}<extra></extra>",
         "legendgroup": "Sudan",
         "line": {
          "color": "#EF553B",
          "dash": "solid"
         },
         "marker": {
          "symbol": "circle"
         },
         "mode": "text+markers+lines",
         "name": "Sudan",
         "orientation": "v",
         "showlegend": true,
         "text": [
          1952,
          1957,
          1962,
          1967,
          1972,
          1977,
          1982,
          1987,
          1992,
          1997,
          2002,
          2007
         ],
         "textposition": "bottom right",
         "type": "scatter",
         "x": [
          38.635,
          39.624,
          40.87,
          42.858,
          45.083,
          47.8,
          50.338,
          51.744,
          53.556,
          55.37300000000001,
          56.369,
          58.556
         ],
         "xaxis": "x",
         "y": [
          1615.991129,
          1770.3370739999998,
          1959.593767,
          1687.997641,
          1659.652775,
          2202.988423,
          1895.544073,
          1507.819159,
          1492.197043,
          1632.2107640000004,
          1993.398314,
          2602.394995
         ],
         "yaxis": "y"
        }
       ],
       "layout": {
        "legend": {
         "title": {
          "text": "country"
         },
         "tracegroupgap": 0
        },
        "margin": {
         "t": 60
        },
        "template": {
         "data": {
          "bar": [
           {
            "error_x": {
             "color": "#2a3f5f"
            },
            "error_y": {
             "color": "#2a3f5f"
            },
            "marker": {
             "line": {
              "color": "#E5ECF6",
              "width": 0.5
             },
             "pattern": {
              "fillmode": "overlay",
              "size": 10,
              "solidity": 0.2
             }
            },
            "type": "bar"
           }
          ],
          "barpolar": [
           {
            "marker": {
             "line": {
              "color": "#E5ECF6",
              "width": 0.5
             },
             "pattern": {
              "fillmode": "overlay",
              "size": 10,
              "solidity": 0.2
             }
            },
            "type": "barpolar"
           }
          ],
          "carpet": [
           {
            "aaxis": {
             "endlinecolor": "#2a3f5f",
             "gridcolor": "white",
             "linecolor": "white",
             "minorgridcolor": "white",
             "startlinecolor": "#2a3f5f"
            },
            "baxis": {
             "endlinecolor": "#2a3f5f",
             "gridcolor": "white",
             "linecolor": "white",
             "minorgridcolor": "white",
             "startlinecolor": "#2a3f5f"
            },
            "type": "carpet"
           }
          ],
          "choropleth": [
           {
            "colorbar": {
             "outlinewidth": 0,
             "ticks": ""
            },
            "type": "choropleth"
           }
          ],
          "contour": [
           {
            "colorbar": {
             "outlinewidth": 0,
             "ticks": ""
            },
            "colorscale": [
             [
              0,
              "#0d0887"
             ],
             [
              0.1111111111111111,
              "#46039f"
             ],
             [
              0.2222222222222222,
              "#7201a8"
             ],
             [
              0.3333333333333333,
              "#9c179e"
             ],
             [
              0.4444444444444444,
              "#bd3786"
             ],
             [
              0.5555555555555556,
              "#d8576b"
             ],
             [
              0.6666666666666666,
              "#ed7953"
             ],
             [
              0.7777777777777778,
              "#fb9f3a"
             ],
             [
              0.8888888888888888,
              "#fdca26"
             ],
             [
              1,
              "#f0f921"
             ]
            ],
            "type": "contour"
           }
          ],
          "contourcarpet": [
           {
            "colorbar": {
             "outlinewidth": 0,
             "ticks": ""
            },
            "type": "contourcarpet"
           }
          ],
          "heatmap": [
           {
            "colorbar": {
             "outlinewidth": 0,
             "ticks": ""
            },
            "colorscale": [
             [
              0,
              "#0d0887"
             ],
             [
              0.1111111111111111,
              "#46039f"
             ],
             [
              0.2222222222222222,
              "#7201a8"
             ],
             [
              0.3333333333333333,
              "#9c179e"
             ],
             [
              0.4444444444444444,
              "#bd3786"
             ],
             [
              0.5555555555555556,
              "#d8576b"
             ],
             [
              0.6666666666666666,
              "#ed7953"
             ],
             [
              0.7777777777777778,
              "#fb9f3a"
             ],
             [
              0.8888888888888888,
              "#fdca26"
             ],
             [
              1,
              "#f0f921"
             ]
            ],
            "type": "heatmap"
           }
          ],
          "heatmapgl": [
           {
            "colorbar": {
             "outlinewidth": 0,
             "ticks": ""
            },
            "colorscale": [
             [
              0,
              "#0d0887"
             ],
             [
              0.1111111111111111,
              "#46039f"
             ],
             [
              0.2222222222222222,
              "#7201a8"
             ],
             [
              0.3333333333333333,
              "#9c179e"
             ],
             [
              0.4444444444444444,
              "#bd3786"
             ],
             [
              0.5555555555555556,
              "#d8576b"
             ],
             [
              0.6666666666666666,
              "#ed7953"
             ],
             [
              0.7777777777777778,
              "#fb9f3a"
             ],
             [
              0.8888888888888888,
              "#fdca26"
             ],
             [
              1,
              "#f0f921"
             ]
            ],
            "type": "heatmapgl"
           }
          ],
          "histogram": [
           {
            "marker": {
             "pattern": {
              "fillmode": "overlay",
              "size": 10,
              "solidity": 0.2
             }
            },
            "type": "histogram"
           }
          ],
          "histogram2d": [
           {
            "colorbar": {
             "outlinewidth": 0,
             "ticks": ""
            },
            "colorscale": [
             [
              0,
              "#0d0887"
             ],
             [
              0.1111111111111111,
              "#46039f"
             ],
             [
              0.2222222222222222,
              "#7201a8"
             ],
             [
              0.3333333333333333,
              "#9c179e"
             ],
             [
              0.4444444444444444,
              "#bd3786"
             ],
             [
              0.5555555555555556,
              "#d8576b"
             ],
             [
              0.6666666666666666,
              "#ed7953"
             ],
             [
              0.7777777777777778,
              "#fb9f3a"
             ],
             [
              0.8888888888888888,
              "#fdca26"
             ],
             [
              1,
              "#f0f921"
             ]
            ],
            "type": "histogram2d"
           }
          ],
          "histogram2dcontour": [
           {
            "colorbar": {
             "outlinewidth": 0,
             "ticks": ""
            },
            "colorscale": [
             [
              0,
              "#0d0887"
             ],
             [
              0.1111111111111111,
              "#46039f"
             ],
             [
              0.2222222222222222,
              "#7201a8"
             ],
             [
              0.3333333333333333,
              "#9c179e"
             ],
             [
              0.4444444444444444,
              "#bd3786"
             ],
             [
              0.5555555555555556,
              "#d8576b"
             ],
             [
              0.6666666666666666,
              "#ed7953"
             ],
             [
              0.7777777777777778,
              "#fb9f3a"
             ],
             [
              0.8888888888888888,
              "#fdca26"
             ],
             [
              1,
              "#f0f921"
             ]
            ],
            "type": "histogram2dcontour"
           }
          ],
          "mesh3d": [
           {
            "colorbar": {
             "outlinewidth": 0,
             "ticks": ""
            },
            "type": "mesh3d"
           }
          ],
          "parcoords": [
           {
            "line": {
             "colorbar": {
              "outlinewidth": 0,
              "ticks": ""
             }
            },
            "type": "parcoords"
           }
          ],
          "pie": [
           {
            "automargin": true,
            "type": "pie"
           }
          ],
          "scatter": [
           {
            "marker": {
             "colorbar": {
              "outlinewidth": 0,
              "ticks": ""
             }
            },
            "type": "scatter"
           }
          ],
          "scatter3d": [
           {
            "line": {
             "colorbar": {
              "outlinewidth": 0,
              "ticks": ""
             }
            },
            "marker": {
             "colorbar": {
              "outlinewidth": 0,
              "ticks": ""
             }
            },
            "type": "scatter3d"
           }
          ],
          "scattercarpet": [
           {
            "marker": {
             "colorbar": {
              "outlinewidth": 0,
              "ticks": ""
             }
            },
            "type": "scattercarpet"
           }
          ],
          "scattergeo": [
           {
            "marker": {
             "colorbar": {
              "outlinewidth": 0,
              "ticks": ""
             }
            },
            "type": "scattergeo"
           }
          ],
          "scattergl": [
           {
            "marker": {
             "colorbar": {
              "outlinewidth": 0,
              "ticks": ""
             }
            },
            "type": "scattergl"
           }
          ],
          "scattermapbox": [
           {
            "marker": {
             "colorbar": {
              "outlinewidth": 0,
              "ticks": ""
             }
            },
            "type": "scattermapbox"
           }
          ],
          "scatterpolar": [
           {
            "marker": {
             "colorbar": {
              "outlinewidth": 0,
              "ticks": ""
             }
            },
            "type": "scatterpolar"
           }
          ],
          "scatterpolargl": [
           {
            "marker": {
             "colorbar": {
              "outlinewidth": 0,
              "ticks": ""
             }
            },
            "type": "scatterpolargl"
           }
          ],
          "scatterternary": [
           {
            "marker": {
             "colorbar": {
              "outlinewidth": 0,
              "ticks": ""
             }
            },
            "type": "scatterternary"
           }
          ],
          "surface": [
           {
            "colorbar": {
             "outlinewidth": 0,
             "ticks": ""
            },
            "colorscale": [
             [
              0,
              "#0d0887"
             ],
             [
              0.1111111111111111,
              "#46039f"
             ],
             [
              0.2222222222222222,
              "#7201a8"
             ],
             [
              0.3333333333333333,
              "#9c179e"
             ],
             [
              0.4444444444444444,
              "#bd3786"
             ],
             [
              0.5555555555555556,
              "#d8576b"
             ],
             [
              0.6666666666666666,
              "#ed7953"
             ],
             [
              0.7777777777777778,
              "#fb9f3a"
             ],
             [
              0.8888888888888888,
              "#fdca26"
             ],
             [
              1,
              "#f0f921"
             ]
            ],
            "type": "surface"
           }
          ],
          "table": [
           {
            "cells": {
             "fill": {
              "color": "#EBF0F8"
             },
             "line": {
              "color": "white"
             }
            },
            "header": {
             "fill": {
              "color": "#C8D4E3"
             },
             "line": {
              "color": "white"
             }
            },
            "type": "table"
           }
          ]
         },
         "layout": {
          "annotationdefaults": {
           "arrowcolor": "#2a3f5f",
           "arrowhead": 0,
           "arrowwidth": 1
          },
          "autotypenumbers": "strict",
          "coloraxis": {
           "colorbar": {
            "outlinewidth": 0,
            "ticks": ""
           }
          },
          "colorscale": {
           "diverging": [
            [
             0,
             "#8e0152"
            ],
            [
             0.1,
             "#c51b7d"
            ],
            [
             0.2,
             "#de77ae"
            ],
            [
             0.3,
             "#f1b6da"
            ],
            [
             0.4,
             "#fde0ef"
            ],
            [
             0.5,
             "#f7f7f7"
            ],
            [
             0.6,
             "#e6f5d0"
            ],
            [
             0.7,
             "#b8e186"
            ],
            [
             0.8,
             "#7fbc41"
            ],
            [
             0.9,
             "#4d9221"
            ],
            [
             1,
             "#276419"
            ]
           ],
           "sequential": [
            [
             0,
             "#0d0887"
            ],
            [
             0.1111111111111111,
             "#46039f"
            ],
            [
             0.2222222222222222,
             "#7201a8"
            ],
            [
             0.3333333333333333,
             "#9c179e"
            ],
            [
             0.4444444444444444,
             "#bd3786"
            ],
            [
             0.5555555555555556,
             "#d8576b"
            ],
            [
             0.6666666666666666,
             "#ed7953"
            ],
            [
             0.7777777777777778,
             "#fb9f3a"
            ],
            [
             0.8888888888888888,
             "#fdca26"
            ],
            [
             1,
             "#f0f921"
            ]
           ],
           "sequentialminus": [
            [
             0,
             "#0d0887"
            ],
            [
             0.1111111111111111,
             "#46039f"
            ],
            [
             0.2222222222222222,
             "#7201a8"
            ],
            [
             0.3333333333333333,
             "#9c179e"
            ],
            [
             0.4444444444444444,
             "#bd3786"
            ],
            [
             0.5555555555555556,
             "#d8576b"
            ],
            [
             0.6666666666666666,
             "#ed7953"
            ],
            [
             0.7777777777777778,
             "#fb9f3a"
            ],
            [
             0.8888888888888888,
             "#fdca26"
            ],
            [
             1,
             "#f0f921"
            ]
           ]
          },
          "colorway": [
           "#636efa",
           "#EF553B",
           "#00cc96",
           "#ab63fa",
           "#FFA15A",
           "#19d3f3",
           "#FF6692",
           "#B6E880",
           "#FF97FF",
           "#FECB52"
          ],
          "font": {
           "color": "#2a3f5f"
          },
          "geo": {
           "bgcolor": "white",
           "lakecolor": "white",
           "landcolor": "#E5ECF6",
           "showlakes": true,
           "showland": true,
           "subunitcolor": "white"
          },
          "hoverlabel": {
           "align": "left"
          },
          "hovermode": "closest",
          "mapbox": {
           "style": "light"
          },
          "paper_bgcolor": "white",
          "plot_bgcolor": "#E5ECF6",
          "polar": {
           "angularaxis": {
            "gridcolor": "white",
            "linecolor": "white",
            "ticks": ""
           },
           "bgcolor": "#E5ECF6",
           "radialaxis": {
            "gridcolor": "white",
            "linecolor": "white",
            "ticks": ""
           }
          },
          "scene": {
           "xaxis": {
            "backgroundcolor": "#E5ECF6",
            "gridcolor": "white",
            "gridwidth": 2,
            "linecolor": "white",
            "showbackground": true,
            "ticks": "",
            "zerolinecolor": "white"
           },
           "yaxis": {
            "backgroundcolor": "#E5ECF6",
            "gridcolor": "white",
            "gridwidth": 2,
            "linecolor": "white",
            "showbackground": true,
            "ticks": "",
            "zerolinecolor": "white"
           },
           "zaxis": {
            "backgroundcolor": "#E5ECF6",
            "gridcolor": "white",
            "gridwidth": 2,
            "linecolor": "white",
            "showbackground": true,
            "ticks": "",
            "zerolinecolor": "white"
           }
          },
          "shapedefaults": {
           "line": {
            "color": "#2a3f5f"
           }
          },
          "ternary": {
           "aaxis": {
            "gridcolor": "white",
            "linecolor": "white",
            "ticks": ""
           },
           "baxis": {
            "gridcolor": "white",
            "linecolor": "white",
            "ticks": ""
           },
           "bgcolor": "#E5ECF6",
           "caxis": {
            "gridcolor": "white",
            "linecolor": "white",
            "ticks": ""
           }
          },
          "title": {
           "x": 0.05
          },
          "xaxis": {
           "automargin": true,
           "gridcolor": "white",
           "linecolor": "white",
           "ticks": "",
           "title": {
            "standoff": 15
           },
           "zerolinecolor": "white",
           "zerolinewidth": 2
          },
          "yaxis": {
           "automargin": true,
           "gridcolor": "white",
           "linecolor": "white",
           "ticks": "",
           "title": {
            "standoff": 15
           },
           "zerolinecolor": "white",
           "zerolinewidth": 2
          }
         }
        },
        "xaxis": {
         "anchor": "y",
         "domain": [
          0,
          1
         ],
         "title": {
          "text": "lifeExp"
         }
        },
        "yaxis": {
         "anchor": "x",
         "domain": [
          0,
          1
         ],
         "title": {
          "text": "gdpPercap"
         }
        }
       }
      }
     },
     "metadata": {},
     "output_type": "display_data"
    }
   ],
   "source": [
    "import plotly.express as px\n",
    "df1 = px.data.gapminder().query(\"country in ['Canada', 'Sudan']\")\n",
    "\n",
    "fig = px.line(df1, x=\"lifeExp\", y=\"gdpPercap\", color=\"country\", text=\"year\")\n",
    "fig.update_traces(textposition=\"bottom right\")\n",
    "fig.show()"
   ]
  },
  {
   "cell_type": "code",
   "execution_count": 4,
   "metadata": {},
   "outputs": [
    {
     "data": {
      "text/html": [
       "<div>\n",
       "<style scoped>\n",
       "    .dataframe tbody tr th:only-of-type {\n",
       "        vertical-align: middle;\n",
       "    }\n",
       "\n",
       "    .dataframe tbody tr th {\n",
       "        vertical-align: top;\n",
       "    }\n",
       "\n",
       "    .dataframe thead th {\n",
       "        text-align: right;\n",
       "    }\n",
       "</style>\n",
       "<table border=\"1\" class=\"dataframe\">\n",
       "  <thead>\n",
       "    <tr style=\"text-align: right;\">\n",
       "      <th></th>\n",
       "      <th>country</th>\n",
       "      <th>continent</th>\n",
       "      <th>year</th>\n",
       "      <th>lifeExp</th>\n",
       "      <th>pop</th>\n",
       "      <th>gdpPercap</th>\n",
       "      <th>iso_alpha</th>\n",
       "      <th>iso_num</th>\n",
       "    </tr>\n",
       "  </thead>\n",
       "  <tbody>\n",
       "    <tr>\n",
       "      <th>240</th>\n",
       "      <td>Canada</td>\n",
       "      <td>Americas</td>\n",
       "      <td>1952</td>\n",
       "      <td>68.75</td>\n",
       "      <td>14785584</td>\n",
       "      <td>11367.16112</td>\n",
       "      <td>CAN</td>\n",
       "      <td>124</td>\n",
       "    </tr>\n",
       "    <tr>\n",
       "      <th>241</th>\n",
       "      <td>Canada</td>\n",
       "      <td>Americas</td>\n",
       "      <td>1957</td>\n",
       "      <td>69.96</td>\n",
       "      <td>17010154</td>\n",
       "      <td>12489.95006</td>\n",
       "      <td>CAN</td>\n",
       "      <td>124</td>\n",
       "    </tr>\n",
       "  </tbody>\n",
       "</table>\n",
       "</div>"
      ],
      "text/plain": [
       "    country continent  year  lifeExp       pop    gdpPercap iso_alpha  iso_num\n",
       "240  Canada  Americas  1952    68.75  14785584  11367.16112       CAN      124\n",
       "241  Canada  Americas  1957    69.96  17010154  12489.95006       CAN      124"
      ]
     },
     "execution_count": 4,
     "metadata": {},
     "output_type": "execute_result"
    }
   ],
   "source": [
    "df1.head(2)"
   ]
  },
  {
   "cell_type": "code",
   "execution_count": 3,
   "metadata": {},
   "outputs": [
    {
     "data": {
      "application/vnd.plotly.v1+json": {
       "config": {
        "plotlyServerURL": "https://plot.ly"
       },
       "data": [
        {
         "connectgaps": true,
         "line": {
          "color": "rgb(67,67,67)",
          "width": 2
         },
         "mode": "lines",
         "name": "Television",
         "type": "scatter",
         "x": [
          2001,
          2002,
          2003,
          2004,
          2005,
          2006,
          2007,
          2008,
          2009,
          2010,
          2011,
          2012,
          2013
         ],
         "y": [
          74,
          82,
          80,
          74,
          73,
          72,
          74,
          70,
          70,
          66,
          66,
          69
         ]
        },
        {
         "marker": {
          "color": "rgb(67,67,67)",
          "size": 8
         },
         "mode": "markers",
         "type": "scatter",
         "x": [
          2001,
          2013
         ],
         "y": [
          74,
          69
         ]
        },
        {
         "connectgaps": true,
         "line": {
          "color": "rgb(115,115,115)",
          "width": 2
         },
         "mode": "lines",
         "name": "Newspaper",
         "type": "scatter",
         "x": [
          2001,
          2002,
          2003,
          2004,
          2005,
          2006,
          2007,
          2008,
          2009,
          2010,
          2011,
          2012,
          2013
         ],
         "y": [
          45,
          42,
          50,
          46,
          36,
          36,
          34,
          35,
          32,
          31,
          31,
          28
         ]
        },
        {
         "marker": {
          "color": "rgb(115,115,115)",
          "size": 8
         },
         "mode": "markers",
         "type": "scatter",
         "x": [
          2001,
          2013
         ],
         "y": [
          45,
          28
         ]
        },
        {
         "connectgaps": true,
         "line": {
          "color": "rgb(49,130,189)",
          "width": 4
         },
         "mode": "lines",
         "name": "Internet",
         "type": "scatter",
         "x": [
          2001,
          2002,
          2003,
          2004,
          2005,
          2006,
          2007,
          2008,
          2009,
          2010,
          2011,
          2012,
          2013
         ],
         "y": [
          13,
          14,
          20,
          24,
          20,
          24,
          24,
          40,
          35,
          41,
          43,
          50
         ]
        },
        {
         "marker": {
          "color": "rgb(49,130,189)",
          "size": 12
         },
         "mode": "markers",
         "type": "scatter",
         "x": [
          2001,
          2013
         ],
         "y": [
          13,
          50
         ]
        },
        {
         "connectgaps": true,
         "line": {
          "color": "rgb(189,189,189)",
          "width": 2
         },
         "mode": "lines",
         "name": "Radio",
         "type": "scatter",
         "x": [
          2001,
          2002,
          2003,
          2004,
          2005,
          2006,
          2007,
          2008,
          2009,
          2010,
          2011,
          2012,
          2013
         ],
         "y": [
          18,
          21,
          18,
          21,
          16,
          14,
          13,
          18,
          17,
          16,
          19,
          23
         ]
        },
        {
         "marker": {
          "color": "rgb(189,189,189)",
          "size": 8
         },
         "mode": "markers",
         "type": "scatter",
         "x": [
          2001,
          2013
         ],
         "y": [
          18,
          23
         ]
        }
       ],
       "layout": {
        "annotations": [
         {
          "font": {
           "family": "Arial",
           "size": 16
          },
          "showarrow": false,
          "text": "Television 74%",
          "x": 0.05,
          "xanchor": "right",
          "xref": "paper",
          "y": 74,
          "yanchor": "middle"
         },
         {
          "font": {
           "family": "Arial",
           "size": 16
          },
          "showarrow": false,
          "text": "69%",
          "x": 0.95,
          "xanchor": "left",
          "xref": "paper",
          "y": 69,
          "yanchor": "middle"
         },
         {
          "font": {
           "family": "Arial",
           "size": 16
          },
          "showarrow": false,
          "text": "Newspaper 45%",
          "x": 0.05,
          "xanchor": "right",
          "xref": "paper",
          "y": 45,
          "yanchor": "middle"
         },
         {
          "font": {
           "family": "Arial",
           "size": 16
          },
          "showarrow": false,
          "text": "28%",
          "x": 0.95,
          "xanchor": "left",
          "xref": "paper",
          "y": 28,
          "yanchor": "middle"
         },
         {
          "font": {
           "family": "Arial",
           "size": 16
          },
          "showarrow": false,
          "text": "Internet 13%",
          "x": 0.05,
          "xanchor": "right",
          "xref": "paper",
          "y": 13,
          "yanchor": "middle"
         },
         {
          "font": {
           "family": "Arial",
           "size": 16
          },
          "showarrow": false,
          "text": "50%",
          "x": 0.95,
          "xanchor": "left",
          "xref": "paper",
          "y": 50,
          "yanchor": "middle"
         },
         {
          "font": {
           "family": "Arial",
           "size": 16
          },
          "showarrow": false,
          "text": "Radio 18%",
          "x": 0.05,
          "xanchor": "right",
          "xref": "paper",
          "y": 18,
          "yanchor": "middle"
         },
         {
          "font": {
           "family": "Arial",
           "size": 16
          },
          "showarrow": false,
          "text": "23%",
          "x": 0.95,
          "xanchor": "left",
          "xref": "paper",
          "y": 23,
          "yanchor": "middle"
         },
         {
          "font": {
           "color": "rgb(37,37,37)",
           "family": "Arial",
           "size": 30
          },
          "showarrow": false,
          "text": "Main Source for News",
          "x": 0,
          "xanchor": "left",
          "xref": "paper",
          "y": 1.05,
          "yanchor": "bottom",
          "yref": "paper"
         },
         {
          "font": {
           "color": "rgb(150,150,150)",
           "family": "Arial",
           "size": 12
          },
          "showarrow": false,
          "text": "Source: PewResearch Center & Storytelling with data",
          "x": 0.5,
          "xanchor": "center",
          "xref": "paper",
          "y": -0.1,
          "yanchor": "top",
          "yref": "paper"
         }
        ],
        "autosize": false,
        "margin": {
         "autoexpand": false,
         "l": 100,
         "r": 20,
         "t": 110
        },
        "plot_bgcolor": "white",
        "showlegend": false,
        "template": {
         "data": {
          "bar": [
           {
            "error_x": {
             "color": "#2a3f5f"
            },
            "error_y": {
             "color": "#2a3f5f"
            },
            "marker": {
             "line": {
              "color": "#E5ECF6",
              "width": 0.5
             },
             "pattern": {
              "fillmode": "overlay",
              "size": 10,
              "solidity": 0.2
             }
            },
            "type": "bar"
           }
          ],
          "barpolar": [
           {
            "marker": {
             "line": {
              "color": "#E5ECF6",
              "width": 0.5
             },
             "pattern": {
              "fillmode": "overlay",
              "size": 10,
              "solidity": 0.2
             }
            },
            "type": "barpolar"
           }
          ],
          "carpet": [
           {
            "aaxis": {
             "endlinecolor": "#2a3f5f",
             "gridcolor": "white",
             "linecolor": "white",
             "minorgridcolor": "white",
             "startlinecolor": "#2a3f5f"
            },
            "baxis": {
             "endlinecolor": "#2a3f5f",
             "gridcolor": "white",
             "linecolor": "white",
             "minorgridcolor": "white",
             "startlinecolor": "#2a3f5f"
            },
            "type": "carpet"
           }
          ],
          "choropleth": [
           {
            "colorbar": {
             "outlinewidth": 0,
             "ticks": ""
            },
            "type": "choropleth"
           }
          ],
          "contour": [
           {
            "colorbar": {
             "outlinewidth": 0,
             "ticks": ""
            },
            "colorscale": [
             [
              0,
              "#0d0887"
             ],
             [
              0.1111111111111111,
              "#46039f"
             ],
             [
              0.2222222222222222,
              "#7201a8"
             ],
             [
              0.3333333333333333,
              "#9c179e"
             ],
             [
              0.4444444444444444,
              "#bd3786"
             ],
             [
              0.5555555555555556,
              "#d8576b"
             ],
             [
              0.6666666666666666,
              "#ed7953"
             ],
             [
              0.7777777777777778,
              "#fb9f3a"
             ],
             [
              0.8888888888888888,
              "#fdca26"
             ],
             [
              1,
              "#f0f921"
             ]
            ],
            "type": "contour"
           }
          ],
          "contourcarpet": [
           {
            "colorbar": {
             "outlinewidth": 0,
             "ticks": ""
            },
            "type": "contourcarpet"
           }
          ],
          "heatmap": [
           {
            "colorbar": {
             "outlinewidth": 0,
             "ticks": ""
            },
            "colorscale": [
             [
              0,
              "#0d0887"
             ],
             [
              0.1111111111111111,
              "#46039f"
             ],
             [
              0.2222222222222222,
              "#7201a8"
             ],
             [
              0.3333333333333333,
              "#9c179e"
             ],
             [
              0.4444444444444444,
              "#bd3786"
             ],
             [
              0.5555555555555556,
              "#d8576b"
             ],
             [
              0.6666666666666666,
              "#ed7953"
             ],
             [
              0.7777777777777778,
              "#fb9f3a"
             ],
             [
              0.8888888888888888,
              "#fdca26"
             ],
             [
              1,
              "#f0f921"
             ]
            ],
            "type": "heatmap"
           }
          ],
          "heatmapgl": [
           {
            "colorbar": {
             "outlinewidth": 0,
             "ticks": ""
            },
            "colorscale": [
             [
              0,
              "#0d0887"
             ],
             [
              0.1111111111111111,
              "#46039f"
             ],
             [
              0.2222222222222222,
              "#7201a8"
             ],
             [
              0.3333333333333333,
              "#9c179e"
             ],
             [
              0.4444444444444444,
              "#bd3786"
             ],
             [
              0.5555555555555556,
              "#d8576b"
             ],
             [
              0.6666666666666666,
              "#ed7953"
             ],
             [
              0.7777777777777778,
              "#fb9f3a"
             ],
             [
              0.8888888888888888,
              "#fdca26"
             ],
             [
              1,
              "#f0f921"
             ]
            ],
            "type": "heatmapgl"
           }
          ],
          "histogram": [
           {
            "marker": {
             "pattern": {
              "fillmode": "overlay",
              "size": 10,
              "solidity": 0.2
             }
            },
            "type": "histogram"
           }
          ],
          "histogram2d": [
           {
            "colorbar": {
             "outlinewidth": 0,
             "ticks": ""
            },
            "colorscale": [
             [
              0,
              "#0d0887"
             ],
             [
              0.1111111111111111,
              "#46039f"
             ],
             [
              0.2222222222222222,
              "#7201a8"
             ],
             [
              0.3333333333333333,
              "#9c179e"
             ],
             [
              0.4444444444444444,
              "#bd3786"
             ],
             [
              0.5555555555555556,
              "#d8576b"
             ],
             [
              0.6666666666666666,
              "#ed7953"
             ],
             [
              0.7777777777777778,
              "#fb9f3a"
             ],
             [
              0.8888888888888888,
              "#fdca26"
             ],
             [
              1,
              "#f0f921"
             ]
            ],
            "type": "histogram2d"
           }
          ],
          "histogram2dcontour": [
           {
            "colorbar": {
             "outlinewidth": 0,
             "ticks": ""
            },
            "colorscale": [
             [
              0,
              "#0d0887"
             ],
             [
              0.1111111111111111,
              "#46039f"
             ],
             [
              0.2222222222222222,
              "#7201a8"
             ],
             [
              0.3333333333333333,
              "#9c179e"
             ],
             [
              0.4444444444444444,
              "#bd3786"
             ],
             [
              0.5555555555555556,
              "#d8576b"
             ],
             [
              0.6666666666666666,
              "#ed7953"
             ],
             [
              0.7777777777777778,
              "#fb9f3a"
             ],
             [
              0.8888888888888888,
              "#fdca26"
             ],
             [
              1,
              "#f0f921"
             ]
            ],
            "type": "histogram2dcontour"
           }
          ],
          "mesh3d": [
           {
            "colorbar": {
             "outlinewidth": 0,
             "ticks": ""
            },
            "type": "mesh3d"
           }
          ],
          "parcoords": [
           {
            "line": {
             "colorbar": {
              "outlinewidth": 0,
              "ticks": ""
             }
            },
            "type": "parcoords"
           }
          ],
          "pie": [
           {
            "automargin": true,
            "type": "pie"
           }
          ],
          "scatter": [
           {
            "marker": {
             "colorbar": {
              "outlinewidth": 0,
              "ticks": ""
             }
            },
            "type": "scatter"
           }
          ],
          "scatter3d": [
           {
            "line": {
             "colorbar": {
              "outlinewidth": 0,
              "ticks": ""
             }
            },
            "marker": {
             "colorbar": {
              "outlinewidth": 0,
              "ticks": ""
             }
            },
            "type": "scatter3d"
           }
          ],
          "scattercarpet": [
           {
            "marker": {
             "colorbar": {
              "outlinewidth": 0,
              "ticks": ""
             }
            },
            "type": "scattercarpet"
           }
          ],
          "scattergeo": [
           {
            "marker": {
             "colorbar": {
              "outlinewidth": 0,
              "ticks": ""
             }
            },
            "type": "scattergeo"
           }
          ],
          "scattergl": [
           {
            "marker": {
             "colorbar": {
              "outlinewidth": 0,
              "ticks": ""
             }
            },
            "type": "scattergl"
           }
          ],
          "scattermapbox": [
           {
            "marker": {
             "colorbar": {
              "outlinewidth": 0,
              "ticks": ""
             }
            },
            "type": "scattermapbox"
           }
          ],
          "scatterpolar": [
           {
            "marker": {
             "colorbar": {
              "outlinewidth": 0,
              "ticks": ""
             }
            },
            "type": "scatterpolar"
           }
          ],
          "scatterpolargl": [
           {
            "marker": {
             "colorbar": {
              "outlinewidth": 0,
              "ticks": ""
             }
            },
            "type": "scatterpolargl"
           }
          ],
          "scatterternary": [
           {
            "marker": {
             "colorbar": {
              "outlinewidth": 0,
              "ticks": ""
             }
            },
            "type": "scatterternary"
           }
          ],
          "surface": [
           {
            "colorbar": {
             "outlinewidth": 0,
             "ticks": ""
            },
            "colorscale": [
             [
              0,
              "#0d0887"
             ],
             [
              0.1111111111111111,
              "#46039f"
             ],
             [
              0.2222222222222222,
              "#7201a8"
             ],
             [
              0.3333333333333333,
              "#9c179e"
             ],
             [
              0.4444444444444444,
              "#bd3786"
             ],
             [
              0.5555555555555556,
              "#d8576b"
             ],
             [
              0.6666666666666666,
              "#ed7953"
             ],
             [
              0.7777777777777778,
              "#fb9f3a"
             ],
             [
              0.8888888888888888,
              "#fdca26"
             ],
             [
              1,
              "#f0f921"
             ]
            ],
            "type": "surface"
           }
          ],
          "table": [
           {
            "cells": {
             "fill": {
              "color": "#EBF0F8"
             },
             "line": {
              "color": "white"
             }
            },
            "header": {
             "fill": {
              "color": "#C8D4E3"
             },
             "line": {
              "color": "white"
             }
            },
            "type": "table"
           }
          ]
         },
         "layout": {
          "annotationdefaults": {
           "arrowcolor": "#2a3f5f",
           "arrowhead": 0,
           "arrowwidth": 1
          },
          "autotypenumbers": "strict",
          "coloraxis": {
           "colorbar": {
            "outlinewidth": 0,
            "ticks": ""
           }
          },
          "colorscale": {
           "diverging": [
            [
             0,
             "#8e0152"
            ],
            [
             0.1,
             "#c51b7d"
            ],
            [
             0.2,
             "#de77ae"
            ],
            [
             0.3,
             "#f1b6da"
            ],
            [
             0.4,
             "#fde0ef"
            ],
            [
             0.5,
             "#f7f7f7"
            ],
            [
             0.6,
             "#e6f5d0"
            ],
            [
             0.7,
             "#b8e186"
            ],
            [
             0.8,
             "#7fbc41"
            ],
            [
             0.9,
             "#4d9221"
            ],
            [
             1,
             "#276419"
            ]
           ],
           "sequential": [
            [
             0,
             "#0d0887"
            ],
            [
             0.1111111111111111,
             "#46039f"
            ],
            [
             0.2222222222222222,
             "#7201a8"
            ],
            [
             0.3333333333333333,
             "#9c179e"
            ],
            [
             0.4444444444444444,
             "#bd3786"
            ],
            [
             0.5555555555555556,
             "#d8576b"
            ],
            [
             0.6666666666666666,
             "#ed7953"
            ],
            [
             0.7777777777777778,
             "#fb9f3a"
            ],
            [
             0.8888888888888888,
             "#fdca26"
            ],
            [
             1,
             "#f0f921"
            ]
           ],
           "sequentialminus": [
            [
             0,
             "#0d0887"
            ],
            [
             0.1111111111111111,
             "#46039f"
            ],
            [
             0.2222222222222222,
             "#7201a8"
            ],
            [
             0.3333333333333333,
             "#9c179e"
            ],
            [
             0.4444444444444444,
             "#bd3786"
            ],
            [
             0.5555555555555556,
             "#d8576b"
            ],
            [
             0.6666666666666666,
             "#ed7953"
            ],
            [
             0.7777777777777778,
             "#fb9f3a"
            ],
            [
             0.8888888888888888,
             "#fdca26"
            ],
            [
             1,
             "#f0f921"
            ]
           ]
          },
          "colorway": [
           "#636efa",
           "#EF553B",
           "#00cc96",
           "#ab63fa",
           "#FFA15A",
           "#19d3f3",
           "#FF6692",
           "#B6E880",
           "#FF97FF",
           "#FECB52"
          ],
          "font": {
           "color": "#2a3f5f"
          },
          "geo": {
           "bgcolor": "white",
           "lakecolor": "white",
           "landcolor": "#E5ECF6",
           "showlakes": true,
           "showland": true,
           "subunitcolor": "white"
          },
          "hoverlabel": {
           "align": "left"
          },
          "hovermode": "closest",
          "mapbox": {
           "style": "light"
          },
          "paper_bgcolor": "white",
          "plot_bgcolor": "#E5ECF6",
          "polar": {
           "angularaxis": {
            "gridcolor": "white",
            "linecolor": "white",
            "ticks": ""
           },
           "bgcolor": "#E5ECF6",
           "radialaxis": {
            "gridcolor": "white",
            "linecolor": "white",
            "ticks": ""
           }
          },
          "scene": {
           "xaxis": {
            "backgroundcolor": "#E5ECF6",
            "gridcolor": "white",
            "gridwidth": 2,
            "linecolor": "white",
            "showbackground": true,
            "ticks": "",
            "zerolinecolor": "white"
           },
           "yaxis": {
            "backgroundcolor": "#E5ECF6",
            "gridcolor": "white",
            "gridwidth": 2,
            "linecolor": "white",
            "showbackground": true,
            "ticks": "",
            "zerolinecolor": "white"
           },
           "zaxis": {
            "backgroundcolor": "#E5ECF6",
            "gridcolor": "white",
            "gridwidth": 2,
            "linecolor": "white",
            "showbackground": true,
            "ticks": "",
            "zerolinecolor": "white"
           }
          },
          "shapedefaults": {
           "line": {
            "color": "#2a3f5f"
           }
          },
          "ternary": {
           "aaxis": {
            "gridcolor": "white",
            "linecolor": "white",
            "ticks": ""
           },
           "baxis": {
            "gridcolor": "white",
            "linecolor": "white",
            "ticks": ""
           },
           "bgcolor": "#E5ECF6",
           "caxis": {
            "gridcolor": "white",
            "linecolor": "white",
            "ticks": ""
           }
          },
          "title": {
           "x": 0.05
          },
          "xaxis": {
           "automargin": true,
           "gridcolor": "white",
           "linecolor": "white",
           "ticks": "",
           "title": {
            "standoff": 15
           },
           "zerolinecolor": "white",
           "zerolinewidth": 2
          },
          "yaxis": {
           "automargin": true,
           "gridcolor": "white",
           "linecolor": "white",
           "ticks": "",
           "title": {
            "standoff": 15
           },
           "zerolinecolor": "white",
           "zerolinewidth": 2
          }
         }
        },
        "xaxis": {
         "linecolor": "rgb(204, 204, 204)",
         "linewidth": 2,
         "showgrid": false,
         "showline": true,
         "showticklabels": true,
         "tickfont": {
          "color": "rgb(82, 82, 82)",
          "family": "Arial",
          "size": 12
         },
         "ticks": "outside"
        },
        "yaxis": {
         "showgrid": false,
         "showline": false,
         "showticklabels": false,
         "zeroline": false
        }
       }
      }
     },
     "metadata": {},
     "output_type": "display_data"
    }
   ],
   "source": [
    "import plotly.graph_objects as go\n",
    "import numpy as np\n",
    "\n",
    "title = 'Main Source for News'\n",
    "labels = ['Television', 'Newspaper', 'Internet', 'Radio']\n",
    "colors = ['rgb(67,67,67)', 'rgb(115,115,115)', 'rgb(49,130,189)', 'rgb(189,189,189)']\n",
    "\n",
    "mode_size = [8, 8, 12, 8]\n",
    "line_size = [2, 2, 4, 2]\n",
    "\n",
    "x_data = np.vstack((np.arange(2001, 2014),)*4)\n",
    "\n",
    "y_data = np.array([\n",
    "    [74, 82, 80, 74, 73, 72, 74, 70, 70, 66, 66, 69],\n",
    "    [45, 42, 50, 46, 36, 36, 34, 35, 32, 31, 31, 28],\n",
    "    [13, 14, 20, 24, 20, 24, 24, 40, 35, 41, 43, 50],\n",
    "    [18, 21, 18, 21, 16, 14, 13, 18, 17, 16, 19, 23],\n",
    "])\n",
    "\n",
    "fig = go.Figure()\n",
    "\n",
    "for i in range(0, 4):\n",
    "    fig.add_trace(go.Scatter(x=x_data[i], y=y_data[i], mode='lines',\n",
    "        name=labels[i],\n",
    "        line=dict(color=colors[i], width=line_size[i]),\n",
    "        connectgaps=True,\n",
    "    ))\n",
    "\n",
    "    # endpoints\n",
    "    fig.add_trace(go.Scatter(\n",
    "        x=[x_data[i][0], x_data[i][-1]],\n",
    "        y=[y_data[i][0], y_data[i][-1]],\n",
    "        mode='markers',\n",
    "        marker=dict(color=colors[i], size=mode_size[i])\n",
    "    ))\n",
    "\n",
    "fig.update_layout(\n",
    "    xaxis=dict(\n",
    "        showline=True,\n",
    "        showgrid=False,\n",
    "        showticklabels=True,\n",
    "        linecolor='rgb(204, 204, 204)',\n",
    "        linewidth=2,\n",
    "        ticks='outside',\n",
    "        tickfont=dict(\n",
    "            family='Arial',\n",
    "            size=12,\n",
    "            color='rgb(82, 82, 82)',\n",
    "        ),\n",
    "    ),\n",
    "    yaxis=dict(\n",
    "        showgrid=False,\n",
    "        zeroline=False,\n",
    "        showline=False,\n",
    "        showticklabels=False,\n",
    "    ),\n",
    "    autosize=False,\n",
    "    margin=dict(\n",
    "        autoexpand=False,\n",
    "        l=100,\n",
    "        r=20,\n",
    "        t=110,\n",
    "    ),\n",
    "    showlegend=False,\n",
    "    plot_bgcolor='white'\n",
    ")\n",
    "\n",
    "annotations = []\n",
    "\n",
    "# Adding labels\n",
    "for y_trace, label, color in zip(y_data, labels, colors):\n",
    "    # labeling the left_side of the plot\n",
    "    annotations.append(dict(xref='paper', x=0.05, y=y_trace[0],\n",
    "                                  xanchor='right', yanchor='middle',\n",
    "                                  text=label + ' {}%'.format(y_trace[0]),\n",
    "                                  font=dict(family='Arial',\n",
    "                                            size=16),\n",
    "                                  showarrow=False))\n",
    "    # labeling the right_side of the plot\n",
    "    annotations.append(dict(xref='paper', x=0.95, y=y_trace[11],\n",
    "                                  xanchor='left', yanchor='middle',\n",
    "                                  text='{}%'.format(y_trace[11]),\n",
    "                                  font=dict(family='Arial',\n",
    "                                            size=16),\n",
    "                                  showarrow=False))\n",
    "# Title\n",
    "annotations.append(dict(xref='paper', yref='paper', x=0.0, y=1.05,\n",
    "                              xanchor='left', yanchor='bottom',\n",
    "                              text='Main Source for News',\n",
    "                              font=dict(family='Arial',\n",
    "                                        size=30,\n",
    "                                        color='rgb(37,37,37)'),\n",
    "                              showarrow=False))\n",
    "# Source\n",
    "annotations.append(dict(xref='paper', yref='paper', x=0.5, y=-0.1,\n",
    "                              xanchor='center', yanchor='top',\n",
    "                              text='Source: PewResearch Center & ' +\n",
    "                                   'Storytelling with data',\n",
    "                              font=dict(family='Arial',\n",
    "                                        size=12,\n",
    "                                        color='rgb(150,150,150)'),\n",
    "                              showarrow=False))\n",
    "\n",
    "fig.update_layout(annotations=annotations)\n",
    "\n",
    "fig.show()"
   ]
  },
  {
   "cell_type": "code",
   "execution_count": 11,
   "metadata": {},
   "outputs": [
    {
     "name": "stdout",
     "output_type": "stream",
     "text": [
      "<class 'pandas.core.frame.DataFrame'>\n",
      "RangeIndex: 90 entries, 0 to 89\n",
      "Data columns (total 4 columns):\n",
      " #   Column    Non-Null Count  Dtype         \n",
      "---  ------    --------------  -----         \n",
      " 0   Metrics   90 non-null     object        \n",
      " 1   Date      90 non-null     datetime64[ns]\n",
      " 2   numbers   90 non-null     int32         \n",
      " 3   Variable  90 non-null     object        \n",
      "dtypes: datetime64[ns](1), int32(1), object(2)\n",
      "memory usage: 2.6+ KB\n"
     ]
    }
   ],
   "source": [
    "df.info()"
   ]
  }
 ],
 "metadata": {
  "kernelspec": {
   "display_name": "myenv",
   "language": "python",
   "name": "python3"
  },
  "language_info": {
   "codemirror_mode": {
    "name": "ipython",
    "version": 3
   },
   "file_extension": ".py",
   "mimetype": "text/x-python",
   "name": "python",
   "nbconvert_exporter": "python",
   "pygments_lexer": "ipython3",
   "version": "3.8.8"
  }
 },
 "nbformat": 4,
 "nbformat_minor": 2
}
